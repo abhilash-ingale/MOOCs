{
 "cells": [
  {
   "cell_type": "markdown",
   "metadata": {},
   "source": [
    "## Basics & Linear Regression"
   ]
  },
  {
   "cell_type": "markdown",
   "metadata": {},
   "source": [
    "### What is Pytorch Tensor?"
   ]
  },
  {
   "cell_type": "code",
   "execution_count": 43,
   "metadata": {},
   "outputs": [],
   "source": [
    "import torch\n",
    "import numpy as np"
   ]
  },
  {
   "cell_type": "code",
   "execution_count": 44,
   "metadata": {},
   "outputs": [
    {
     "name": "stdout",
     "output_type": "stream",
     "text": [
      "Shapes of tensors are torch.Size([]), torch.Size([3]), torch.Size([2, 3]), torch.Size([3, 2, 3])\n"
     ]
    }
   ],
   "source": [
    "t1 = torch.tensor(2.,requires_grad=True)\n",
    "t2 = torch.tensor([1, 2, 3.],requires_grad=True)\n",
    "t3 = torch.tensor([[1,2.,3],[4,5,6]],requires_grad=True)\n",
    "t4 = torch.tensor([[[1,2.,3],[1,2,3]],\n",
    "                    [[1,2,3],[1,2,3]],\n",
    "                    [[1,2,3],[1,2,3]]],requires_grad=True)\n",
    "\n",
    "print(f\"Shapes of tensors are {t1.shape}, {t2.shape}, {t3.shape}, {t4.shape}\")"
   ]
  },
  {
   "cell_type": "code",
   "execution_count": 45,
   "metadata": {},
   "outputs": [
    {
     "name": "stdout",
     "output_type": "stream",
     "text": [
      "The gradient w.r.t. t1 is given by - 0.800000011920929\n",
      "None\n"
     ]
    }
   ],
   "source": [
    "w , b = 0.8 , 0.1\n",
    "z = w * t1 + b\n",
    "z.backward()\n",
    "print(f\"The gradient w.r.t. t1 is given by - {t1.grad}\")\n",
    "print(t2.grad)"
   ]
  },
  {
   "cell_type": "markdown",
   "metadata": {},
   "source": [
    "### Converting back & forth to Numpy"
   ]
  },
  {
   "cell_type": "code",
   "execution_count": 46,
   "metadata": {},
   "outputs": [
    {
     "name": "stdout",
     "output_type": "stream",
     "text": [
      "tensor([[1, 2, 3],\n",
      "        [4, 5, 6]], dtype=torch.int32) torch.int32\n"
     ]
    }
   ],
   "source": [
    "\"\"\"\n",
    "Import numpy array as tensor, helpful as this uses the same memory location of the np array\n",
    "\"\"\"\n",
    "np_arr = np.array([[1,2,3],[4,5,6]])\n",
    "y = torch.from_numpy(np_arr)\n",
    "print(y,y.dtype)"
   ]
  },
  {
   "cell_type": "markdown",
   "metadata": {},
   "source": [
    "## Linear Regression"
   ]
  },
  {
   "cell_type": "markdown",
   "metadata": {},
   "source": [
    "Let us explore the Pytorch functionality with an artificial example. Suppose, we have a dataset where we are given the produce of Apples and Oranges for different regions with data on rainfall, temperature and humidity. "
   ]
  },
  {
   "cell_type": "code",
   "execution_count": 47,
   "metadata": {},
   "outputs": [
    {
     "data": {
      "text/html": [
       "<div>\n",
       "<style scoped>\n",
       "    .dataframe tbody tr th:only-of-type {\n",
       "        vertical-align: middle;\n",
       "    }\n",
       "\n",
       "    .dataframe tbody tr th {\n",
       "        vertical-align: top;\n",
       "    }\n",
       "\n",
       "    .dataframe thead th {\n",
       "        text-align: right;\n",
       "    }\n",
       "</style>\n",
       "<table border=\"1\" class=\"dataframe\">\n",
       "  <thead>\n",
       "    <tr style=\"text-align: right;\">\n",
       "      <th></th>\n",
       "      <th>Region</th>\n",
       "      <th>Temp(F)</th>\n",
       "      <th>Rainfall(mm)</th>\n",
       "      <th>Humidity(%)</th>\n",
       "      <th>Apples(ton)</th>\n",
       "      <th>Oranges (ton)</th>\n",
       "    </tr>\n",
       "  </thead>\n",
       "  <tbody>\n",
       "    <tr>\n",
       "      <th>0</th>\n",
       "      <td>Kanto</td>\n",
       "      <td>73</td>\n",
       "      <td>67</td>\n",
       "      <td>43</td>\n",
       "      <td>56</td>\n",
       "      <td>70</td>\n",
       "    </tr>\n",
       "    <tr>\n",
       "      <th>1</th>\n",
       "      <td>Johto</td>\n",
       "      <td>91</td>\n",
       "      <td>88</td>\n",
       "      <td>64</td>\n",
       "      <td>81</td>\n",
       "      <td>101</td>\n",
       "    </tr>\n",
       "    <tr>\n",
       "      <th>2</th>\n",
       "      <td>Hoenn</td>\n",
       "      <td>87</td>\n",
       "      <td>134</td>\n",
       "      <td>58</td>\n",
       "      <td>119</td>\n",
       "      <td>133</td>\n",
       "    </tr>\n",
       "    <tr>\n",
       "      <th>3</th>\n",
       "      <td>Sinnoh</td>\n",
       "      <td>102</td>\n",
       "      <td>43</td>\n",
       "      <td>37</td>\n",
       "      <td>22</td>\n",
       "      <td>37</td>\n",
       "    </tr>\n",
       "    <tr>\n",
       "      <th>4</th>\n",
       "      <td>Unova</td>\n",
       "      <td>69</td>\n",
       "      <td>96</td>\n",
       "      <td>70</td>\n",
       "      <td>103</td>\n",
       "      <td>119</td>\n",
       "    </tr>\n",
       "  </tbody>\n",
       "</table>\n",
       "</div>"
      ],
      "text/plain": [
       "   Region  Temp(F)  Rainfall(mm)  Humidity(%)  Apples(ton)  Oranges (ton)\n",
       "0   Kanto       73            67           43           56             70\n",
       "1   Johto       91            88           64           81            101\n",
       "2   Hoenn       87           134           58          119            133\n",
       "3  Sinnoh      102            43           37           22             37\n",
       "4   Unova       69            96           70          103            119"
      ]
     },
     "execution_count": 47,
     "metadata": {},
     "output_type": "execute_result"
    }
   ],
   "source": [
    "# Import and visualize data\n",
    "import pandas as pd\n",
    "data = pd.read_excel(\"data.xlsx\")\n",
    "data.head()"
   ]
  },
  {
   "cell_type": "code",
   "execution_count": 48,
   "metadata": {},
   "outputs": [
    {
     "name": "stdout",
     "output_type": "stream",
     "text": [
      "Input tensor is tensor([[ 73.,  67.,  43.],\n",
      "        [ 91.,  88.,  64.],\n",
      "        [ 87., 134.,  58.],\n",
      "        [102.,  43.,  37.],\n",
      "        [ 69.,  96.,  70.]], dtype=torch.float64)\n",
      "Output tensor is: tensor([[ 56.,  70.],\n",
      "        [ 81., 101.],\n",
      "        [119., 133.],\n",
      "        [ 22.,  37.],\n",
      "        [103., 119.]], dtype=torch.float64)\n"
     ]
    }
   ],
   "source": [
    "# Define the input and target tensors. Target tensors are correct values which will help to train our model\n",
    "input_tensor = torch.tensor(data.iloc[:,1:4].values,dtype=float)\n",
    "targets_tensor = torch.tensor(data.iloc[:,4:6].values,dtype=float)\n",
    "print(f\"Input tensor is {input_tensor}\")\n",
    "print(f\"Output tensor is: {targets_tensor}\")"
   ]
  },
  {
   "cell_type": "code",
   "execution_count": 49,
   "metadata": {},
   "outputs": [
    {
     "name": "stdout",
     "output_type": "stream",
     "text": [
      "tensor([[-0.8927, -1.7226, -1.4668],\n",
      "        [ 0.4105, -1.0740,  0.6396]], requires_grad=True) tensor([-0.1545, -1.1236], requires_grad=True)\n"
     ]
    }
   ],
   "source": [
    "# Initialize random weights and biases when starting to train\n",
    "\n",
    "w = torch.randn(targets_tensor.shape[1],input_tensor.shape[1],requires_grad=True)\n",
    "b = torch.randn(targets_tensor.shape[1],requires_grad=True)\n",
    "print(w,b)"
   ]
  },
  {
   "cell_type": "code",
   "execution_count": 50,
   "metadata": {},
   "outputs": [
    {
     "name": "stdout",
     "output_type": "stream",
     "text": [
      "tensor([[-243.8158,  -15.6106],\n",
      "        [-326.8643,  -17.3437],\n",
      "        [-393.7335,  -72.2265],\n",
      "        [-219.5613,   18.2328],\n",
      "        [-329.8060,  -31.1296]], dtype=torch.float64, grad_fn=<AddBackward0>)\n"
     ]
    }
   ],
   "source": [
    "# Define a function which returns a linear model for regression\n",
    "\n",
    "def model(x):\n",
    "    return x @ w.t().double() + b.double()\n",
    "\n",
    "preds = model(input_tensor.double())\n",
    "print(preds)"
   ]
  },
  {
   "cell_type": "code",
   "execution_count": 51,
   "metadata": {},
   "outputs": [
    {
     "name": "stdout",
     "output_type": "stream",
     "text": [
      "tensor(851154.7560, dtype=torch.float64, grad_fn=<SumBackward0>)\n"
     ]
    }
   ],
   "source": [
    "# Define mean-squared-error as the loss function\n",
    "def mse(pred,targets):\n",
    "    diff = pred-targets\n",
    "    return torch.sum(torch.mul(diff,diff))\n",
    "\n",
    "loss_mse = mse(preds,targets_tensor)\n",
    "print(loss_mse)"
   ]
  },
  {
   "cell_type": "code",
   "execution_count": 52,
   "metadata": {},
   "outputs": [
    {
     "name": "stdout",
     "output_type": "stream",
     "text": [
      "tensor([[-316225.7812, -353245.0312, -215936.2500],\n",
      "        [ -94293.5078, -117739.8750,  -68723.6953]])\n"
     ]
    }
   ],
   "source": [
    "# Backpropate the loss/error and calculate gradients w.r.t. each element of the weight matrix\n",
    "loss_mse.backward()\n",
    "print(w.grad)"
   ]
  },
  {
   "cell_type": "code",
   "execution_count": 53,
   "metadata": {},
   "outputs": [
    {
     "name": "stdout",
     "output_type": "stream",
     "text": [
      "tensor([[315.3330, 351.5224, 214.4694],\n",
      "        [ 94.7040, 116.6659,  69.3633]], requires_grad=True) tensor([-0.1543, -1.1225], requires_grad=True)\n"
     ]
    }
   ],
   "source": [
    "# Update the weights as per a learning rate (alpha)\n",
    "alpha = 1e-3\n",
    "\n",
    "with torch.no_grad():\n",
    "    w -= w.grad * alpha \n",
    "    b -= b * alpha\n",
    "    w.grad.zero_()\n",
    "    b.grad.zero_()\n",
    "\n",
    "print(w,b)"
   ]
  },
  {
   "cell_type": "code",
   "execution_count": 54,
   "metadata": {},
   "outputs": [
    {
     "name": "stdout",
     "output_type": "stream",
     "text": [
      "tensor(2.6446e+10, dtype=torch.float64, grad_fn=<SumBackward0>)\n"
     ]
    }
   ],
   "source": [
    "pred = model(input_tensor.double())\n",
    "loss = mse(pred,targets_tensor)\n",
    "print(loss)"
   ]
  },
  {
   "cell_type": "code",
   "execution_count": null,
   "metadata": {},
   "outputs": [],
   "source": []
  }
 ],
 "metadata": {
  "kernelspec": {
   "display_name": "Python 3.8.12 ('DL')",
   "language": "python",
   "name": "python3"
  },
  "language_info": {
   "codemirror_mode": {
    "name": "ipython",
    "version": 3
   },
   "file_extension": ".py",
   "mimetype": "text/x-python",
   "name": "python",
   "nbconvert_exporter": "python",
   "pygments_lexer": "ipython3",
   "version": "3.8.12"
  },
  "orig_nbformat": 4,
  "vscode": {
   "interpreter": {
    "hash": "8cb3cad39057ed64d4041ccc411fa2247506884ca45327d9e7449e10d194a636"
   }
  }
 },
 "nbformat": 4,
 "nbformat_minor": 2
}
